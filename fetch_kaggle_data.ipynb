{
 "cells": [
  {
   "cell_type": "markdown",
   "metadata": {},
   "source": [
    "\n",
    "# fetch_kaggle_data.ipynb\n",
    "\n",
    "C:\\Users\\Farid Khafizov\\conda\\fetch_kaggle_data.ipynb\n"
   ]
  },
  {
   "cell_type": "code",
   "execution_count": null,
   "metadata": {},
   "outputs": [],
   "source": [
    "# !pip install kaggle"
   ]
  },
  {
   "cell_type": "code",
   "execution_count": 8,
   "metadata": {},
   "outputs": [
    {
     "data": {
      "text/plain": [
       "'\\n1. click on icon -> My Account\\n   Scroll down to API section\\n   Click \"Create New API Token\"\\n   \"kaggle.json\" file is created and saved locally\\n\\n'"
      ]
     },
     "execution_count": 8,
     "metadata": {},
     "output_type": "execute_result"
    }
   ],
   "source": [
    "'''\n",
    "READ\n",
    "\n",
    "https://medium.com/@jeff.daniel77/accessing-the-kaggle-com-api-with-jupyter-notebook-on-windows-d6f330bc6953\n",
    "\n",
    "\n",
    "0. > pip install kaggle\n",
    "\n",
    "1. login to your Kaggle account\n",
    "   click on the icon in the upper right corner -> My Account\n",
    "   Scroll down to API section\n",
    "   Click \"Create New API Token\"\n",
    "   \"kaggle.json\" file is created and saved locally\n",
    "\n",
    "2. Create \".kaggle\" dir\n",
    "   C:\\Users\\Farid Khafizov>mkdir .kaggle\n",
    "   and move \"kaggle.json\" into that directory\n",
    "\n",
    "3. see all active competitions by running the following command\n",
    "   C:\\Users\\Farid Khafizov\\.kaggle>kaggle competitions list\n",
    "   \n",
    "4. Select one of the competitions that you signed up for, eg\n",
    "   https://www.kaggle.com/c/contradictory-my-dear-watson/data#\n",
    "   Scroll down. Right before \"Data Explorer\" section there should be API line:\n",
    "   \"kaggle competitions download -c contradictory-my-dear-watson\"\n",
    "   copy it\n",
    "\n",
    "5. run this command\n",
    "   !kaggle competitions download -c contradictory-my-dear-watson\n",
    "\n",
    "6. data file is downloaded into your local dir\n",
    "   C:\\Users\\Farid Khafizov\\conda\\contradictory-my-dear-watson.zip\n",
    "   \n",
    "'''"
   ]
  },
  {
   "cell_type": "code",
   "execution_count": 3,
   "metadata": {},
   "outputs": [],
   "source": [
    "import kaggle"
   ]
  },
  {
   "cell_type": "code",
   "execution_count": 4,
   "metadata": {},
   "outputs": [
    {
     "name": "stdout",
     "output_type": "stream",
     "text": [
      "contradictory-my-dear-watson.zip: Skipping, found more recently modified local copy (use --force to force download)\n"
     ]
    }
   ],
   "source": [
    "!kaggle competitions download -c contradictory-my-dear-watson"
   ]
  },
  {
   "cell_type": "code",
   "execution_count": 5,
   "metadata": {},
   "outputs": [
    {
     "name": "stderr",
     "output_type": "stream",
     "text": [
      "'unzip' is not recognized as an internal or external command,\n",
      "operable program or batch file.\n"
     ]
    }
   ],
   "source": [
    "!unzip contradictory-my-dear-watson.zip"
   ]
  },
  {
   "cell_type": "code",
   "execution_count": null,
   "metadata": {},
   "outputs": [],
   "source": []
  },
  {
   "cell_type": "code",
   "execution_count": null,
   "metadata": {},
   "outputs": [],
   "source": []
  },
  {
   "cell_type": "code",
   "execution_count": null,
   "metadata": {},
   "outputs": [],
   "source": []
  },
  {
   "cell_type": "markdown",
   "metadata": {},
   "source": [
    "\n",
    "# Another option from YT\n",
    "\n",
    "https://www.youtube.com/watch?v=b1j2jjfcMYA"
   ]
  },
  {
   "cell_type": "code",
   "execution_count": 7,
   "metadata": {},
   "outputs": [],
   "source": [
    "# !kaggle competitions download titanic -f \"train.csv\" --force"
   ]
  },
  {
   "cell_type": "code",
   "execution_count": 11,
   "metadata": {},
   "outputs": [],
   "source": [
    "def extract_data(fn, fp):\n",
    "    !kaggle competitions download contradictory-my-dear-watson -f $fn -p $fp --force"
   ]
  },
  {
   "cell_type": "code",
   "execution_count": 12,
   "metadata": {},
   "outputs": [
    {
     "name": "stdout",
     "output_type": "stream",
     "text": [
      "Downloading train.csv.zip to ..\\data\\raw\n",
      "\n"
     ]
    },
    {
     "name": "stderr",
     "output_type": "stream",
     "text": [
      "\n",
      "  0%|          | 0.00/1.23M [00:00<?, ?B/s]\n",
      " 82%|########1 | 1.00M/1.23M [00:00<00:00, 4.39MB/s]\n",
      "100%|##########| 1.23M/1.23M [00:00<00:00, 4.53MB/s]\n"
     ]
    },
    {
     "name": "stdout",
     "output_type": "stream",
     "text": [
      "Downloading test.csv.zip to ..\\data\\raw\n",
      "\n"
     ]
    },
    {
     "name": "stderr",
     "output_type": "stream",
     "text": [
      "\n",
      "  0%|          | 0.00/536k [00:00<?, ?B/s]\n",
      "100%|##########| 536k/536k [00:00<00:00, 3.68MB/s]\n",
      "100%|##########| 536k/536k [00:00<00:00, 3.66MB/s]\n"
     ]
    }
   ],
   "source": [
    "import os\n",
    "train_fn = \"train.csv\"\n",
    "test_fn  = \"test.csv\"\n",
    "\n",
    "raw_data_path = os.path.join( os.path.pardir, \"data\", \"raw\")\n",
    "extract_data(  train_fn, raw_data_path )\n",
    "extract_data(  test_fn, raw_data_path )\n",
    "\n"
   ]
  },
  {
   "cell_type": "code",
   "execution_count": null,
   "metadata": {},
   "outputs": [],
   "source": [
    "# data is saved in C:\\Users\\Farid Khafizov\\data\\raw"
   ]
  }
 ],
 "metadata": {
  "kernelspec": {
   "display_name": "Python 3",
   "language": "python",
   "name": "python3"
  },
  "language_info": {
   "codemirror_mode": {
    "name": "ipython",
    "version": 3
   },
   "file_extension": ".py",
   "mimetype": "text/x-python",
   "name": "python",
   "nbconvert_exporter": "python",
   "pygments_lexer": "ipython3",
   "version": "3.8.3"
  }
 },
 "nbformat": 4,
 "nbformat_minor": 4
}
